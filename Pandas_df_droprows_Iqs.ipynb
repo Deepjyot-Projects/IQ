{
  "nbformat": 4,
  "nbformat_minor": 0,
  "metadata": {
    "colab": {
      "provenance": [],
      "authorship_tag": "ABX9TyPCxB+4osg3ovSNSyD/aQEg",
      "include_colab_link": true
    },
    "kernelspec": {
      "name": "python3",
      "display_name": "Python 3"
    },
    "language_info": {
      "name": "python"
    }
  },
  "cells": [
    {
      "cell_type": "markdown",
      "metadata": {
        "id": "view-in-github",
        "colab_type": "text"
      },
      "source": [
        "<a href=\"https://colab.research.google.com/github/Deepjyot-Projects/IQ/blob/main/Pandas_df_droprows_Iqs.ipynb\" target=\"_parent\"><img src=\"https://colab.research.google.com/assets/colab-badge.svg\" alt=\"Open In Colab\"/></a>"
      ]
    },
    {
      "cell_type": "code",
      "execution_count": 1,
      "metadata": {
        "id": "7Fk_2yF-neGK"
      },
      "outputs": [],
      "source": [
        "import pandas as pd\n",
        "\n",
        "\n",
        "raw_data = {'vendor_id': [1, 2, 3, 4, 5, 6], 'name': ['vendor_schmendor', 'parts_r_us', 'vendor_king', 'vendor_diagram', 'venny', 'vendtriloquist'], 'contract_sign_date': ['2018-09-01', '2018-09-03', '2018-10-11', '2018-08-21', '2018-08-13', '2018-10-29'],'total_spend' :[34324, 23455, 77654, 23334, 94843, 23444]}\n",
        "\n",
        "\n",
        "df = pd.DataFrame(raw_data, columns = ['vendor_id', 'name', 'contract_sign_date', 'total_spend'])"
      ]
    },
    {
      "cell_type": "code",
      "source": [
        "print(df)"
      ],
      "metadata": {
        "colab": {
          "base_uri": "https://localhost:8080/"
        },
        "id": "kEtK340Vnp-w",
        "outputId": "ac6c2ff1-03da-4014-d332-5914c064c396"
      },
      "execution_count": 2,
      "outputs": [
        {
          "output_type": "stream",
          "name": "stdout",
          "text": [
            "   vendor_id              name contract_sign_date  total_spend\n",
            "0          1  vendor_schmendor         2018-09-01        34324\n",
            "1          2        parts_r_us         2018-09-03        23455\n",
            "2          3       vendor_king         2018-10-11        77654\n",
            "3          4    vendor_diagram         2018-08-21        23334\n",
            "4          5             venny         2018-08-13        94843\n",
            "5          6    vendtriloquist         2018-10-29        23444\n"
          ]
        }
      ]
    },
    {
      "cell_type": "code",
      "source": [
        "df['contract_sign_date'] = pd.to_datetime(df['contract_sign_date'])"
      ],
      "metadata": {
        "id": "xOQot5j_othf"
      },
      "execution_count": null,
      "outputs": []
    },
    {
      "cell_type": "code",
      "source": [
        "new_df = df[ ~( (df['contract_sign_date']>= '2018-09-01') & (df['contract_sign_date'] <= '2018-10-13')  )]"
      ],
      "metadata": {
        "id": "7OW8yDKFnrSt"
      },
      "execution_count": 6,
      "outputs": []
    },
    {
      "cell_type": "code",
      "source": [
        "print(new_df)"
      ],
      "metadata": {
        "colab": {
          "base_uri": "https://localhost:8080/"
        },
        "id": "Uk-UpNpspghg",
        "outputId": "31c27b60-1052-4f16-a872-f0dcfa7c63c5"
      },
      "execution_count": 7,
      "outputs": [
        {
          "output_type": "stream",
          "name": "stdout",
          "text": [
            "   vendor_id            name contract_sign_date  total_spend\n",
            "3          4  vendor_diagram         2018-08-21        23334\n",
            "4          5           venny         2018-08-13        94843\n",
            "5          6  vendtriloquist         2018-10-29        23444\n"
          ]
        }
      ]
    }
  ]
}